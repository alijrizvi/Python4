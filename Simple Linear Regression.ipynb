{
 "cells": [
{
   "cell_type": "markdown",
   "id": "5511a639",
   "metadata": {},
   "source": [
    "# Building my first Simple Linear Regression Model on Python, Guided Fully by Talented YouTuber Greg Hogg"
   ]
  },
{
   "cell_type": "code",
   "execution_count": 6,
   "id": "faa0ce84",
   "metadata": {},
   "outputs": [
    {
     "data": {
      "text/html": [
       "<div>\n",
       "<style scoped>\n",
       "    .dataframe tbody tr th:only-of-type {\n",
       "        vertical-align: middle;\n",
       "    }\n",
       "\n",
       "    .dataframe tbody tr th {\n",
       "        vertical-align: top;\n",
       "    }\n",
       "\n",
       "    .dataframe thead th {\n",
       "        text-align: right;\n",
       "    }\n",
       "</style>\n",
       "<table border=\"1\" class=\"dataframe\">\n",
       "  <thead>\n",
       "    <tr style=\"text-align: right;\">\n",
       "      <th></th>\n",
       "      <th>longitude</th>\n",
       "      <th>latitude</th>\n",
       "      <th>housing_median_age</th>\n",
       "      <th>total_rooms</th>\n",
       "      <th>total_bedrooms</th>\n",
       "      <th>population</th>\n",
       "      <th>households</th>\n",
       "      <th>median_income</th>\n",
       "      <th>median_house_value</th>\n",
       "    </tr>\n",
       "  </thead>\n",
       "  <tbody>\n",
       "    <tr>\n",
       "      <th>0</th>\n",
       "      <td>-114.31</td>\n",
       "      <td>34.19</td>\n",
       "      <td>15.0</td>\n",
       "      <td>5612.0</td>\n",
       "      <td>1283.0</td>\n",
       "      <td>1015.0</td>\n",
       "      <td>472.0</td>\n",
       "      <td>1.4936</td>\n",
       "      <td>66900.0</td>\n",
       "    </tr>\n",
       "    <tr>\n",
       "      <th>1</th>\n",
       "      <td>-114.47</td>\n",
       "      <td>34.40</td>\n",
       "      <td>19.0</td>\n",
       "      <td>7650.0</td>\n",
       "      <td>1901.0</td>\n",
       "      <td>1129.0</td>\n",
       "      <td>463.0</td>\n",
       "      <td>1.8200</td>\n",
       "      <td>80100.0</td>\n",
       "    </tr>\n",
       "    <tr>\n",
       "      <th>2</th>\n",
       "      <td>-114.56</td>\n",
       "      <td>33.69</td>\n",
       "      <td>17.0</td>\n",
       "      <td>720.0</td>\n",
       "      <td>174.0</td>\n",
       "      <td>333.0</td>\n",
       "      <td>117.0</td>\n",
       "      <td>1.6509</td>\n",
       "      <td>85700.0</td>\n",
       "    </tr>\n",
       "    <tr>\n",
       "      <th>3</th>\n",
       "      <td>-114.57</td>\n",
       "      <td>33.64</td>\n",
       "      <td>14.0</td>\n",
       "      <td>1501.0</td>\n",
       "      <td>337.0</td>\n",
       "      <td>515.0</td>\n",
       "      <td>226.0</td>\n",
       "      <td>3.1917</td>\n",
       "      <td>73400.0</td>\n",
       "    </tr>\n",
       "    <tr>\n",
       "      <th>4</th>\n",
       "      <td>-114.57</td>\n",
       "      <td>33.57</td>\n",
       "      <td>20.0</td>\n",
       "      <td>1454.0</td>\n",
       "      <td>326.0</td>\n",
       "      <td>624.0</td>\n",
       "      <td>262.0</td>\n",
       "      <td>1.9250</td>\n",
       "      <td>65500.0</td>\n",
       "    </tr>\n",
       "    <tr>\n",
       "      <th>...</th>\n",
       "      <td>...</td>\n",
       "      <td>...</td>\n",
       "      <td>...</td>\n",
       "      <td>...</td>\n",
       "      <td>...</td>\n",
       "      <td>...</td>\n",
       "      <td>...</td>\n",
       "      <td>...</td>\n",
       "      <td>...</td>\n",
       "    </tr>\n",
       "    <tr>\n",
       "      <th>16995</th>\n",
       "      <td>-124.26</td>\n",
       "      <td>40.58</td>\n",
       "      <td>52.0</td>\n",
       "      <td>2217.0</td>\n",
       "      <td>394.0</td>\n",
       "      <td>907.0</td>\n",
       "      <td>369.0</td>\n",
       "      <td>2.3571</td>\n",
       "      <td>111400.0</td>\n",
       "    </tr>\n",
       "    <tr>\n",
       "      <th>16996</th>\n",
       "      <td>-124.27</td>\n",
       "      <td>40.69</td>\n",
       "      <td>36.0</td>\n",
       "      <td>2349.0</td>\n",
       "      <td>528.0</td>\n",
       "      <td>1194.0</td>\n",
       "      <td>465.0</td>\n",
       "      <td>2.5179</td>\n",
       "      <td>79000.0</td>\n",
       "    </tr>\n",
       "    <tr>\n",
       "      <th>16997</th>\n",
       "      <td>-124.30</td>\n",
       "      <td>41.84</td>\n",
       "      <td>17.0</td>\n",
       "      <td>2677.0</td>\n",
       "      <td>531.0</td>\n",
       "      <td>1244.0</td>\n",
       "      <td>456.0</td>\n",
       "      <td>3.0313</td>\n",
       "      <td>103600.0</td>\n",
       "    </tr>\n",
       "    <tr>\n",
       "      <th>16998</th>\n",
       "      <td>-124.30</td>\n",
       "      <td>41.80</td>\n",
       "      <td>19.0</td>\n",
       "      <td>2672.0</td>\n",
       "      <td>552.0</td>\n",
       "      <td>1298.0</td>\n",
       "      <td>478.0</td>\n",
       "      <td>1.9797</td>\n",
       "      <td>85800.0</td>\n",
       "    </tr>\n",
       "    <tr>\n",
       "      <th>16999</th>\n",
       "      <td>-124.35</td>\n",
       "      <td>40.54</td>\n",
       "      <td>52.0</td>\n",
       "      <td>1820.0</td>\n",
       "      <td>300.0</td>\n",
       "      <td>806.0</td>\n",
       "      <td>270.0</td>\n",
       "      <td>3.0147</td>\n",
       "      <td>94600.0</td>\n",
       "    </tr>\n",
       "  </tbody>\n",
       "</table>\n",
       "<p>17000 rows × 9 columns</p>\n",
       "</div>"
      ],
      "text/plain": [
       "       longitude  latitude  housing_median_age  total_rooms  total_bedrooms  \\\n",
       "0        -114.31     34.19                15.0       5612.0          1283.0   \n",
       "1        -114.47     34.40                19.0       7650.0          1901.0   \n",
       "2        -114.56     33.69                17.0        720.0           174.0   \n",
       "3        -114.57     33.64                14.0       1501.0           337.0   \n",
       "4        -114.57     33.57                20.0       1454.0           326.0   \n",
       "...          ...       ...                 ...          ...             ...   \n",
       "16995    -124.26     40.58                52.0       2217.0           394.0   \n",
       "16996    -124.27     40.69                36.0       2349.0           528.0   \n",
       "16997    -124.30     41.84                17.0       2677.0           531.0   \n",
       "16998    -124.30     41.80                19.0       2672.0           552.0   \n",
       "16999    -124.35     40.54                52.0       1820.0           300.0   \n",
       "\n",
       "       population  households  median_income  median_house_value  \n",
       "0          1015.0       472.0         1.4936             66900.0  \n",
       "1          1129.0       463.0         1.8200             80100.0  \n",
       "2           333.0       117.0         1.6509             85700.0  \n",
       "3           515.0       226.0         3.1917             73400.0  \n",
       "4           624.0       262.0         1.9250             65500.0  \n",
       "...           ...         ...            ...                 ...  \n",
       "16995       907.0       369.0         2.3571            111400.0  \n",
       "16996      1194.0       465.0         2.5179             79000.0  \n",
       "16997      1244.0       456.0         3.0313            103600.0  \n",
       "16998      1298.0       478.0         1.9797             85800.0  \n",
       "16999       806.0       270.0         3.0147             94600.0  \n",
       "\n",
       "[17000 rows x 9 columns]"
      ]
     },
     "execution_count": 6,
     "metadata": {},
     "output_type": "execute_result"
    }
   ],
   "source": [
    "import numpy as np\n",
    "import pandas as pd\n",
    "\n",
    "df = pd.read_csv(r\"C:\\Users\\ali.rizvi\\Downloads\\california_housing_train.csv\")\n",
    "pd.set_option('display.max_rows', 12)\n",
    "df"
   ]
  },
  {
   "cell_type": "code",
   "execution_count": 11,
   "id": "b674ab7c",
   "metadata": {},
   "outputs": [
    {
     "data": {
      "image/png": "[encoded data removed]",
      "text/plain": [
       "<Figure size 640x480 with 1 Axes>"
      ]
     },
     "metadata": {},
     "output_type": "display_data"
    }
   ],
   "source": [
    "# Let's Look at Total Bedrooms in Relation to Population\n",
    "import matplotlib.pyplot as plt\n",
    "\n",
    "pop = df['population'] ## Taking out Columns of the DataFrame\n",
    "bdrooms = df['total_bedrooms']\n",
    "\n",
    "plt.scatter(pop, bdrooms)\n",
    "plt.xlabel('Population')\n",
    "plt.ylabel('Total Bedrooms') ## We Are Going to Make a Linear Regression Model - A Straight Line that Fits through the Plots - to Predict the Amount of Bedrooms by a Given Population Number\n",
    "plt.figsize=(8,6)"
   ]
  },
  {
   "cell_type": "code",
   "execution_count": 13,
   "id": "4f2cecfe",
   "metadata": {},
   "outputs": [
    {
     "data": {
      "text/plain": [
       "((17000,), (17000,))"
      ]
     },
     "execution_count": 13,
     "metadata": {},
     "output_type": "execute_result"
    }
   ],
   "source": [
    "# Converting the Series Objects into NumPy Arrays\n",
    "pop_np = pop.to_numpy()\n",
    "bdrooms_np = bdrooms.to_numpy()\n",
    "\n",
    "pop_np.shape, bdrooms_np.shape ## \"(17000,)\" means they only have 17000 Rows"
   ]
  },
  {
   "cell_type": "code",
   "execution_count": 16,
   "id": "2146de25",
   "metadata": {},
   "outputs": [],
   "source": [
    "# Now, to make a Linear Regression model, we Begin my Importing It form the Scikit-Learn Library\n",
    "from sklearn.linear_model import LinearRegression as LR"
   ]
  },
  {
   "cell_type": "code",
   "execution_count": 17,
   "id": "85d34de8",
   "metadata": {},
   "outputs": [
    {
     "data": {
      "text/plain": [
       "(17000,)"
      ]
     },
     "execution_count": 17,
     "metadata": {},
     "output_type": "execute_result"
    }
   ],
   "source": [
    "# Building the Final Fitting Model\n",
    "\n",
    "## 1.\n",
    "sklearn_model = LR().fit(pop_np.reshape((17000, 1)), bdrooms_np) ### The \"fit()\" gets the Data we have and Returns the Best-fit line\n",
    "\n",
    "### For the pop_np reshaping, we are telling it  we have 17000 Rows and Only 1 Column - the x-axis Value/Input\n",
    "\n",
    "## 2.\n",
    "sklearn_bedroom_predictions = sklearn_model.predict(pop_np.reshape((17000, 1))) \n",
    "## This is for Predicted Y-Values corresponding to any Inputs in the X-axis. ^For any given x-value, get the Expected y-value\n",
    "## For the \"predict()\", we only need to feed in the Inputs (the \"Population\" reshaped set)\n",
    "sklearn_bedroom_predictions.shape"
   ]
  },
  {
   "cell_type": "code",
   "execution_count": 22,
   "id": "b1e75ca0",
   "metadata": {},
   "outputs": [
    {
     "data": {
      "text/plain": [
       "<matplotlib.collections.PathCollection at 0x22184143410>"
      ]
     },
     "execution_count": 22,
     "metadata": {},
     "output_type": "execute_result"
    },
    {
     "data": {
      "image/png": "[encoded data removed]",
      "text/plain": [
       "<Figure size 640x480 with 1 Axes>"
      ]
     },
     "metadata": {},
     "output_type": "display_data"
    }
   ],
   "source": [
    "# Finally, Plotting In the Best-Fit Line\n",
    "pop = df['population']\n",
    "bdrooms = df['total_bedrooms']\n",
    "\n",
    "plt.scatter(pop, bdrooms)\n",
    "plt.xlabel('Population')\n",
    "plt.ylabel('Total Bedrooms')\n",
    "plt.figsize=(8,6)\n",
    "\n",
    "plt.scatter(pop, sklearn_bedroom_predictions) # We can see that for all Associated Inputs ('Population' values), it predicted Outputs (corresponding 'Total Bedrooms' values)"
   ]
  },
  {
   "cell_type": "code",
   "execution_count": 23,
   "id": "487ebed1",
   "metadata": {},
   "outputs": [
    {
     "data": {
      "text/html": [
       "<div>\n",
       "<style scoped>\n",
       "    .dataframe tbody tr th:only-of-type {\n",
       "        vertical-align: middle;\n",
       "    }\n",
       "\n",
       "    .dataframe tbody tr th {\n",
       "        vertical-align: top;\n",
       "    }\n",
       "\n",
       "    .dataframe thead th {\n",
       "        text-align: right;\n",
       "    }\n",
       "</style>\n",
       "<table border=\"1\" class=\"dataframe\">\n",
       "  <thead>\n",
       "    <tr style=\"text-align: right;\">\n",
       "      <th></th>\n",
       "      <th>Population</th>\n",
       "      <th>Bedrooms</th>\n",
       "      <th>sklearn Bedroom Amount Predictions</th>\n",
       "    </tr>\n",
       "  </thead>\n",
       "  <tbody>\n",
       "    <tr>\n",
       "      <th>0</th>\n",
       "      <td>1015.0</td>\n",
       "      <td>1283.0</td>\n",
       "      <td>405.266668</td>\n",
       "    </tr>\n",
       "    <tr>\n",
       "      <th>1</th>\n",
       "      <td>1129.0</td>\n",
       "      <td>1901.0</td>\n",
       "      <td>442.153776</td>\n",
       "    </tr>\n",
       "    <tr>\n",
       "      <th>2</th>\n",
       "      <td>333.0</td>\n",
       "      <td>174.0</td>\n",
       "      <td>184.591162</td>\n",
       "    </tr>\n",
       "    <tr>\n",
       "      <th>3</th>\n",
       "      <td>515.0</td>\n",
       "      <td>337.0</td>\n",
       "      <td>243.481106</td>\n",
       "    </tr>\n",
       "    <tr>\n",
       "      <th>4</th>\n",
       "      <td>624.0</td>\n",
       "      <td>326.0</td>\n",
       "      <td>278.750359</td>\n",
       "    </tr>\n",
       "    <tr>\n",
       "      <th>...</th>\n",
       "      <td>...</td>\n",
       "      <td>...</td>\n",
       "      <td>...</td>\n",
       "    </tr>\n",
       "    <tr>\n",
       "      <th>16995</th>\n",
       "      <td>907.0</td>\n",
       "      <td>394.0</td>\n",
       "      <td>370.320987</td>\n",
       "    </tr>\n",
       "    <tr>\n",
       "      <th>16996</th>\n",
       "      <td>1194.0</td>\n",
       "      <td>528.0</td>\n",
       "      <td>463.185899</td>\n",
       "    </tr>\n",
       "    <tr>\n",
       "      <th>16997</th>\n",
       "      <td>1244.0</td>\n",
       "      <td>531.0</td>\n",
       "      <td>479.364455</td>\n",
       "    </tr>\n",
       "    <tr>\n",
       "      <th>16998</th>\n",
       "      <td>1298.0</td>\n",
       "      <td>552.0</td>\n",
       "      <td>496.837296</td>\n",
       "    </tr>\n",
       "    <tr>\n",
       "      <th>16999</th>\n",
       "      <td>806.0</td>\n",
       "      <td>300.0</td>\n",
       "      <td>337.640303</td>\n",
       "    </tr>\n",
       "  </tbody>\n",
       "</table>\n",
       "<p>17000 rows × 3 columns</p>\n",
       "</div>"
      ],
      "text/plain": [
       "       Population  Bedrooms  sklearn Bedroom Amount Predictions\n",
       "0          1015.0    1283.0                          405.266668\n",
       "1          1129.0    1901.0                          442.153776\n",
       "2           333.0     174.0                          184.591162\n",
       "3           515.0     337.0                          243.481106\n",
       "4           624.0     326.0                          278.750359\n",
       "...           ...       ...                                 ...\n",
       "16995       907.0     394.0                          370.320987\n",
       "16996      1194.0     528.0                          463.185899\n",
       "16997      1244.0     531.0                          479.364455\n",
       "16998      1298.0     552.0                          496.837296\n",
       "16999       806.0     300.0                          337.640303\n",
       "\n",
       "[17000 rows x 3 columns]"
      ]
     },
     "execution_count": 23,
     "metadata": {},
     "output_type": "execute_result"
    }
   ],
   "source": [
    "preds_df = pd.DataFrame({'Population': pop, \n",
    "                         'Bedrooms': bdrooms,\n",
    "                         'sklearn Bedroom Amount Predictions': sklearn_bedroom_predictions})\n",
    "preds_df"
   ]
  },
  {
   "cell_type": "code",
   "execution_count": null,
   "id": "e7fba5bc",
   "metadata": {},
   "outputs": [],
   "source": [
    "# For now, Considering all we have done, We Can Say We Are Assuming:\n",
    "## Total Bedrooms = Alpha + Beta(Population) + Error\n",
    "\n",
    "# Generally:\n",
    "## y(i) = alpha + beta*x(i) + error # \"i\" denotes any given value of x or y"
   ]
  },
  {
   "cell_type": "code",
   "execution_count": null,
   "id": "2d6bbd09",
   "metadata": {},
   "outputs": [],
   "source": [
    "# Now, we will Create a \"Model\" which will Estimate the Output Values and will not include an Error in the Calculation\n",
    "\n",
    "## Model: y_hat(i) = alpha_hat + [beta_hat + x(i)] ### \"hat\" means an 'estimated' value\n",
    "\n",
    "## Learning \"Parameters\" of this Model: 'alpha_hat' and 'beta_hat': We are Trying to Learn them - we can never Know the True Values of both but we are going to Try to Estimate them as Precisely as we can"
   ]
  },
  {
   "cell_type": "code",
   "execution_count": 24,
   "id": "c2b5c1a0",
   "metadata": {},
   "outputs": [],
   "source": [
    "def get_predictions(model, x):\n",
    "    '''\n",
    "    Obtain the Predictions for the given Model and Inputs\n",
    "    model: {'alpha_hat': Number, 'beta_hat': Number}\n",
    "    x: np.array of Floats with shape (n,) of inputs\n",
    "    \n",
    "    Returns: np.array of Floats with shape (n,).\n",
    "    ''' \n",
    "    alpha_hat = model['alpha_hat']\n",
    "    beta_hat = model['beta_hat']\n",
    "    \n",
    "    return alpha_hat + beta_hat * x ## This Returns Predictions in a NumPy Array of Floats with shape (n,)"
   ]
  },
  {
   "cell_type": "code",
   "execution_count": 28,
   "id": "e4a383c8",
   "metadata": {},
   "outputs": [
    {
     "data": {
      "text/plain": [
       "array([ 5, 14, 23])"
      ]
     },
     "execution_count": 28,
     "metadata": {},
     "output_type": "execute_result"
    }
   ],
   "source": [
    "# Now, we will Test our \"get_predictions\" Function\n",
    "\n",
    "test_model = {'alpha_hat': 2, 'beta_hat': 3}\n",
    "test_x = np.array([1, 4, 7]) ## Our Inputs - What will our Linear Model Produce When We Have These Inputs? The Next Line will Show! \n",
    "get_predictions(test_model, test_x) ## get_predictions('model', 'inputs')\n",
    "\n",
    "## The Final Result here was \"5, 14, 23\"; Makes Perfect Sense Due to How We Defined - e.g., when Input was '7', (2) + (3)(7) = \"23\"!"
   ]
  },
  {
   "cell_type": "code",
   "execution_count": 29,
   "id": "ae2d3482",
   "metadata": {},
   "outputs": [
    {
     "data": {
      "text/plain": [
       "<matplotlib.collections.PathCollection at 0x22183e66c90>"
      ]
     },
     "execution_count": 29,
     "metadata": {},
     "output_type": "execute_result"
    },
    {
     "data": {
      "image/png": "[encoded data removed]",
      "text/plain": [
       "<Figure size 640x480 with 1 Axes>"
      ]
     },
     "metadata": {},
     "output_type": "display_data"
    }
   ],
   "source": [
    "# Plotting the Predictions with the Actual Plot\n",
    "\n",
    "plt.scatter(pop, bdrooms)\n",
    "plt.xlabel('Population')\n",
    "plt.ylabel('Total Bedrooms')\n",
    "plt.figsize=(8,6)\n",
    "\n",
    "plt.scatter(pop, get_predictions(test_model, pop_np))"
   ]
  },
  {
   "cell_type": "code",
   "execution_count": 32,
   "id": "dd988743",
   "metadata": {},
   "outputs": [],
   "source": [
    "# Getting the Mean Squared Error Given the Observed and Predicted Outputs\n",
    "\n",
    "def mean_squared_error(y, y_predictions):\n",
    "    '''\n",
    "    y: np.array of Floats with shape (n,) of Observed Outputs\n",
    "    y_predictions: np.array of Floats with shape (n,) of Predicted Outputs\n",
    "    \n",
    "    Returns: Float representing the Mean Squared Error (MSE).\n",
    "    '''\n",
    "    \n",
    "    n = len(y) # And the Total Amount of \"y_predictions\" and \"y\" should be the Same\n",
    "    return np.sum(np.square(y - y_predictions)) / n ## For \"Mean Absolute Error\", all would have been the same - Just \"np.square\" would have been Replaced with \"np.abs\""
   ]
  },
  {
   "cell_type": "code",
   "execution_count": 33,
   "id": "7f6f5ed0",
   "metadata": {},
   "outputs": [
    {
     "data": {
      "text/plain": [
       "23549577.56382353"
      ]
     },
     "execution_count": 33,
     "metadata": {},
     "output_type": "execute_result"
    }
   ],
   "source": [
    "mse1 = mean_squared_error(get_predictions(test_model, pop_np), bdrooms) # 'Bedrooms' (\"bdrooms\") is the Output; 'get_predictions(test_model, pop_np)': the supposedly Actual Metrics Assumed by the Function\n",
    "mse1"
   ]
  },
  {
   "cell_type": "code",
   "execution_count": 36,
   "id": "61e3e467",
   "metadata": {},
   "outputs": [
    {
     "data": {
      "text/plain": [
       "3751.581705882353"
      ]
     },
     "execution_count": 36,
     "metadata": {},
     "output_type": "execute_result"
    }
   ],
   "source": [
    "# Getting the Mean Absolute Error Given the Observed and Predicted Outputs\n",
    "\n",
    "def mean_absolute_error(y, y_predictions):\n",
    "    '''\n",
    "    y: np.array of Floats with shape (n,) of Observed Outputs\n",
    "    y_predictions: np.array of Floats with shape (n,) of Predicted Outputs\n",
    "    \n",
    "    Returns: Float representing the Mean Absolute Squared Error (MAE).\n",
    "    '''\n",
    "    \n",
    "    n = len(y) # And the Total Amount of \"y_predictions\" and \"y\" should be the Same\n",
    "    return np.sum(np.abs(y - y_predictions)) / n\n",
    "\n",
    "mae1 = mean_absolute_error(get_predictions(test_model, pop_np), bdrooms) # 'Bedrooms' (\"bdrooms\") is the Output; 'get_predictions(test_model, pop_np)': the supposedly Actual Metrics Assumed by the Function\n",
    "mae1 # On Average, our Linear Model is Off by *mae1 value* (either Direction)"
   ]
  },
  {
   "cell_type": "code",
   "execution_count": 38,
   "id": "32e4a931",
   "metadata": {},
   "outputs": [
    {
     "data": {
      "text/plain": [
       "{'alpha_hat': 76.84197820308827, 'beta_hat': 0.32357112283793565}"
      ]
     },
     "execution_count": 38,
     "metadata": {},
     "output_type": "execute_result"
    }
   ],
   "source": [
    "def get_best_model(x, y):\n",
    "    '''\n",
    "    Returns the Model with the Parameters that Minimize the MSE.\n",
    "    \n",
    "    x: np.array of Floats with shape (n,) of inputs\n",
    "    y: np.array of Floats with shape (n,) of outputs\n",
    "    \n",
    "    Returns: {'alpha_hat': Float, 'beta_hat': Float} representing the model\n",
    "    '''\n",
    "    \n",
    "    x_bar = np.average(x)\n",
    "    y_bar = np.average(y)\n",
    "    \n",
    "    top = np.sum((x - x_bar)*(y - y_bar))\n",
    "    bottom = np.sum((x - x_bar)**2)\n",
    "    \n",
    "    beta_hat = top / bottom\n",
    "    alpha_hat = y_bar - beta_hat*x_bar\n",
    "    \n",
    "    model = {'alpha_hat': alpha_hat, 'beta_hat': beta_hat}\n",
    "    \n",
    "    return model\n",
    "\n",
    "best_model = get_best_model(pop_np, bdrooms_np)\n",
    "best_model"
   ]
  },
  {
   "cell_type": "code",
   "execution_count": 39,
   "id": "8a338fb4",
   "metadata": {},
   "outputs": [
    {
     "data": {
      "text/plain": [
       "<matplotlib.collections.PathCollection at 0x221849303d0>"
      ]
     },
     "execution_count": 39,
     "metadata": {},
     "output_type": "execute_result"
    },
    {
     "data": {
      "image/png": "[encoded data removed]",
      "text/plain": [
       "<Figure size 640x480 with 1 Axes>"
      ]
     },
     "metadata": {},
     "output_type": "display_data"
    }
   ],
   "source": [
    "# Plotting the Best Model\n",
    "\n",
    "plt.scatter(pop, bdrooms)\n",
    "plt.xlabel('Population')\n",
    "plt.ylabel('Total Bedrooms')\n",
    "plt.figsize=(8,6)\n",
    "\n",
    "plt.scatter(pop, get_predictions(best_model, pop_np)) ## Predictions, Given Population values, from the Best Model\n",
    "\n",
    "## See? This One is Much Closer to the Actual Plot"
   ]
  },
  {
   "cell_type": "code",
   "execution_count": 40,
   "id": "7a50fe14",
   "metadata": {},
   "outputs": [
    {
     "data": {
      "text/html": [
       "<div>\n",
       "<style scoped>\n",
       "    .dataframe tbody tr th:only-of-type {\n",
       "        vertical-align: middle;\n",
       "    }\n",
       "\n",
       "    .dataframe tbody tr th {\n",
       "        vertical-align: top;\n",
       "    }\n",
       "\n",
       "    .dataframe thead th {\n",
       "        text-align: right;\n",
       "    }\n",
       "</style>\n",
       "<table border=\"1\" class=\"dataframe\">\n",
       "  <thead>\n",
       "    <tr style=\"text-align: right;\">\n",
       "      <th></th>\n",
       "      <th>Population</th>\n",
       "      <th>Bedrooms</th>\n",
       "      <th>sklearn Bedroom Amount Predictions</th>\n",
       "      <th>Best Model Predictions</th>\n",
       "    </tr>\n",
       "  </thead>\n",
       "  <tbody>\n",
       "    <tr>\n",
       "      <th>0</th>\n",
       "      <td>1015.0</td>\n",
       "      <td>1283.0</td>\n",
       "      <td>405.266668</td>\n",
       "      <td>405.266668</td>\n",
       "    </tr>\n",
       "    <tr>\n",
       "      <th>1</th>\n",
       "      <td>1129.0</td>\n",
       "      <td>1901.0</td>\n",
       "      <td>442.153776</td>\n",
       "      <td>442.153776</td>\n",
       "    </tr>\n",
       "    <tr>\n",
       "      <th>2</th>\n",
       "      <td>333.0</td>\n",
       "      <td>174.0</td>\n",
       "      <td>184.591162</td>\n",
       "      <td>184.591162</td>\n",
       "    </tr>\n",
       "    <tr>\n",
       "      <th>3</th>\n",
       "      <td>515.0</td>\n",
       "      <td>337.0</td>\n",
       "      <td>243.481106</td>\n",
       "      <td>243.481106</td>\n",
       "    </tr>\n",
       "    <tr>\n",
       "      <th>4</th>\n",
       "      <td>624.0</td>\n",
       "      <td>326.0</td>\n",
       "      <td>278.750359</td>\n",
       "      <td>278.750359</td>\n",
       "    </tr>\n",
       "    <tr>\n",
       "      <th>...</th>\n",
       "      <td>...</td>\n",
       "      <td>...</td>\n",
       "      <td>...</td>\n",
       "      <td>...</td>\n",
       "    </tr>\n",
       "    <tr>\n",
       "      <th>16995</th>\n",
       "      <td>907.0</td>\n",
       "      <td>394.0</td>\n",
       "      <td>370.320987</td>\n",
       "      <td>370.320987</td>\n",
       "    </tr>\n",
       "    <tr>\n",
       "      <th>16996</th>\n",
       "      <td>1194.0</td>\n",
       "      <td>528.0</td>\n",
       "      <td>463.185899</td>\n",
       "      <td>463.185899</td>\n",
       "    </tr>\n",
       "    <tr>\n",
       "      <th>16997</th>\n",
       "      <td>1244.0</td>\n",
       "      <td>531.0</td>\n",
       "      <td>479.364455</td>\n",
       "      <td>479.364455</td>\n",
       "    </tr>\n",
       "    <tr>\n",
       "      <th>16998</th>\n",
       "      <td>1298.0</td>\n",
       "      <td>552.0</td>\n",
       "      <td>496.837296</td>\n",
       "      <td>496.837296</td>\n",
       "    </tr>\n",
       "    <tr>\n",
       "      <th>16999</th>\n",
       "      <td>806.0</td>\n",
       "      <td>300.0</td>\n",
       "      <td>337.640303</td>\n",
       "      <td>337.640303</td>\n",
       "    </tr>\n",
       "  </tbody>\n",
       "</table>\n",
       "<p>17000 rows × 4 columns</p>\n",
       "</div>"
      ],
      "text/plain": [
       "       Population  Bedrooms  sklearn Bedroom Amount Predictions  \\\n",
       "0          1015.0    1283.0                          405.266668   \n",
       "1          1129.0    1901.0                          442.153776   \n",
       "2           333.0     174.0                          184.591162   \n",
       "3           515.0     337.0                          243.481106   \n",
       "4           624.0     326.0                          278.750359   \n",
       "...           ...       ...                                 ...   \n",
       "16995       907.0     394.0                          370.320987   \n",
       "16996      1194.0     528.0                          463.185899   \n",
       "16997      1244.0     531.0                          479.364455   \n",
       "16998      1298.0     552.0                          496.837296   \n",
       "16999       806.0     300.0                          337.640303   \n",
       "\n",
       "       Best Model Predictions  \n",
       "0                  405.266668  \n",
       "1                  442.153776  \n",
       "2                  184.591162  \n",
       "3                  243.481106  \n",
       "4                  278.750359  \n",
       "...                       ...  \n",
       "16995              370.320987  \n",
       "16996              463.185899  \n",
       "16997              479.364455  \n",
       "16998              496.837296  \n",
       "16999              337.640303  \n",
       "\n",
       "[17000 rows x 4 columns]"
      ]
     },
     "execution_count": 40,
     "metadata": {},
     "output_type": "execute_result"
    }
   ],
   "source": [
    "# Adding the Best Model - as a Column - to Our DataFrame to See Values\n",
    "\n",
    "preds_df['Best Model Predictions'] = get_predictions(best_model, pop_np)\n",
    "preds_df"
   ]
  }
 ],
 "metadata": {
  "kernelspec": {
   "display_name": "Python 3 (ipykernel)",
   "language": "python",
   "name": "python3"
  },
  "language_info": {
   "codemirror_mode": {
    "name": "ipython",
    "version": 3
   },
   "file_extension": ".py",
   "mimetype": "text/x-python",
   "name": "python",
   "nbconvert_exporter": "python",
   "pygments_lexer": "ipython3",
   "version": "3.11.5"
  }
 },
 "nbformat": 4,
 "nbformat_minor": 5
}
